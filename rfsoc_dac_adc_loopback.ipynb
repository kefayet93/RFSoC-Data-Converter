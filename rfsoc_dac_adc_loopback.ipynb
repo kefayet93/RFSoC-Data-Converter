{
 "cells": [
  {
   "cell_type": "code",
   "execution_count": null,
   "id": "e8439350-d19e-4a04-a1ab-2b11980f5c06",
   "metadata": {},
   "outputs": [],
   "source": [
    "from pynq.overlays.base import BaseOverlay\n",
    "base = BaseOverlay('base.bit')\n",
    "import xrfdc"
   ]
  },
  {
   "cell_type": "code",
   "execution_count": null,
   "id": "0aab210f-dfff-47e9-bebd-4d336f22eec9",
   "metadata": {},
   "outputs": [],
   "source": [
    "base.init_rf_clks()"
   ]
  },
  {
   "cell_type": "code",
   "execution_count": null,
   "id": "f18dab34-357d-4a02-809f-eb854041365c",
   "metadata": {},
   "outputs": [],
   "source": [
    "base.radio?"
   ]
  },
  {
   "cell_type": "code",
   "execution_count": null,
   "id": "e7a09ae0-14ab-44d3-bf67-9742b004b868",
   "metadata": {},
   "outputs": [],
   "source": [
    "base.radio.transmitter.channel[0].dac_block.MixerSettings"
   ]
  },
  {
   "cell_type": "code",
   "execution_count": null,
   "id": "0ec812fc-5262-4332-a580-1e5d2ffd3d3e",
   "metadata": {},
   "outputs": [],
   "source": [
    "base.radio.transmitter.channel[0].dac_block.QMCSettings"
   ]
  },
  {
   "cell_type": "code",
   "execution_count": null,
   "id": "1e1fe8b6-cb1a-4d2c-a127-b99c72a70dd2",
   "metadata": {},
   "outputs": [],
   "source": [
    "base.radio.transmitter.channel[0].dac_block.CoarseDelaySettings"
   ]
  },
  {
   "cell_type": "code",
   "execution_count": null,
   "id": "eb3f343b-70f0-446e-8b67-2df97b5b931d",
   "metadata": {},
   "outputs": [],
   "source": [
    "base.radio.transmitter.channel[0].dac_block.NyquistZone"
   ]
  },
  {
   "cell_type": "code",
   "execution_count": null,
   "id": "8ac004ef-a15d-47b9-908c-5140e356a06a",
   "metadata": {},
   "outputs": [],
   "source": [
    "base.radio.receiver.get_channel_description()\n",
    "# Lists all the available channels of the RX using the \"get_channel_description()\" method"
   ]
  },
  {
   "cell_type": "code",
   "execution_count": null,
   "id": "8795b321-9926-4e91-b41c-c6b58d44d036",
   "metadata": {},
   "outputs": [],
   "source": [
    "base.radio.receiver.channel[0].adc_block.BlockStatus"
   ]
  },
  {
   "cell_type": "code",
   "execution_count": null,
   "id": "7f07af70-e707-49b0-a86b-89126b92cfbc",
   "metadata": {},
   "outputs": [],
   "source": [
    "base.radio.receiver.channel[0].adc_block.MixerSettings"
   ]
  },
  {
   "cell_type": "code",
   "execution_count": null,
   "id": "a70369d0-7c66-45e4-a10e-1b3960e2598b",
   "metadata": {},
   "outputs": [],
   "source": [
    "base.radio.receiver.channel[0].adc_block.QMCSettings"
   ]
  },
  {
   "cell_type": "code",
   "execution_count": null,
   "id": "304268f8-253d-4013-a158-8337664380cf",
   "metadata": {},
   "outputs": [],
   "source": [
    "base.radio.receiver.channel[0].adc_block.CoarseDelaySettings"
   ]
  },
  {
   "cell_type": "code",
   "execution_count": null,
   "id": "91afd8fb-39b6-4529-89dc-7e3324594477",
   "metadata": {},
   "outputs": [],
   "source": [
    "base.radio.receiver.channel[0].adc_block.NyquistZone"
   ]
  },
  {
   "cell_type": "code",
   "execution_count": null,
   "id": "a7174a22-2134-4374-bd6e-be54e21c42fd",
   "metadata": {},
   "outputs": [],
   "source": [
    "base.radio.transmitter.channel[0].dac_block.MixerSettings['Freq'] = 900  # MHz\n",
    "base.radio.transmitter.channel[1].dac_block.MixerSettings['Freq'] = 1000 # MHz"
   ]
  },
  {
   "cell_type": "code",
   "execution_count": null,
   "id": "4c25a0ba-a05c-4eb7-b1d2-b2aedbf320cc",
   "metadata": {},
   "outputs": [],
   "source": [
    "for i in range(0, len(base.radio.transmitter.channel)):\n",
    "    base.radio.transmitter.channel[i].control.gain = 0.1\n",
    "    base.radio.transmitter.channel[i].control.enable = True"
   ]
  },
  {
   "cell_type": "code",
   "execution_count": null,
   "id": "a80c5ebd-f489-47f6-8600-ac425cc8dc63",
   "metadata": {},
   "outputs": [],
   "source": [
    "number_samples = 128\n",
    "cdata = []\n",
    "for i in range(0, len(base.radio.receiver.channel)):\n",
    "    cdata.append(base.radio.receiver.channel[i].transfer(number_samples))"
   ]
  },
  {
   "cell_type": "code",
   "execution_count": null,
   "id": "a474e1d4-370d-45c2-aa4b-48616320c390",
   "metadata": {},
   "outputs": [],
   "source": [
    "#from pynq import Clocks\n",
    "import numpy as np\n",
    "#print(f\"CPU: {Clocks.cpu_mhz:.6f}MHz\")\n",
    "#print(f\"FCLK0: {Clocks.fclk0_mhz:.6f}MHz\")"
   ]
  },
  {
   "cell_type": "code",
   "execution_count": null,
   "id": "9538cd85-3cdb-47e3-b665-4e8242f6c5ad",
   "metadata": {},
   "outputs": [],
   "source": [
    "sample_frequency = 2457.6e6\n",
    "#sample_frequency = 2491.52e6\n",
    "figs = []\n",
    "\n",
    "for i in range(0, len(base.radio.receiver.channel)):\n",
    "    # Real data\n",
    "    x_real = np.arange(0, number_samples/sample_frequency, 1/sample_frequency)\n",
    "    y_real = np.real(cdata[i])\n",
    "    \n",
    "    # Imag data\n",
    "    x_imag = np.arange(0, number_samples/sample_frequency, 1/sample_frequency)\n",
    "    y_imag = np.imag(cdata[i])"
   ]
  },
  {
   "cell_type": "code",
   "execution_count": null,
   "id": "785c9d95-0a7f-4a58-9429-395c7717585e",
   "metadata": {},
   "outputs": [],
   "source": [
    "#import plotly.graph_objs as go\n",
    "import matplotlib.pyplot as plt\n",
    "#import numpy as np\n",
    "from plotly.subplots import make_subplots\n",
    "\n",
    "#import scienceplots\n",
    "\n",
    "#plt.style.use(['science', 'notebook', 'grid'])\n",
    "#plt.style.use(['science','ieee'])"
   ]
  },
  {
   "cell_type": "code",
   "execution_count": null,
   "id": "3ff11b28-c57b-4899-872c-4818ac291ffa",
   "metadata": {},
   "outputs": [],
   "source": [
    "fig, ax = plt.subplots(1, 1, figsize=(8,3))\n",
    "\n",
    "ax.plot(x_real, y_real, label='Real', color='blue', linewidth='3')\n",
    "ax.plot(x_imag, y_imag, label='Imag', color='red', linewidth='3')\n",
    "plt.rcParams.update({'font.size':12})\n",
    "ax.set(xlabel='Time(sec)', ylabel='Amplitude(V)')\n",
    "ax.xaxis.label.set(fontsize=16)\n",
    "ax.yaxis.label.set(fontsize=16)\n",
    "ax.grid(which='minor', color='#EEEEEE', linestyle=':', linewidth=0.5)\n",
    "#ax.grid(None)\n",
    "ax.legend(loc='upper right', fontsize=14, fancybox=False, edgecolor='black')\n",
    "#setting axis linewidth\n",
    "for axis in ['top', 'bottom', 'left', 'right']:\n",
    "    ax.spines[axis].set_linewidth(2)\n",
    "\n",
    "#plt.figure(figsize=(8,3))\n",
    "#plt.plot(x_real, y_real, label='Real', color='dodgerblue', linewidth='3')\n",
    "#plt.plot(x_imag, y_imag, label='Imag', color='darkorange', linewidth='3')\n",
    "#plt.xlabel('Time [s]', fontsize=16)\n",
    "#plt.ylabel('Amplitude [V]', fontsize=16)\n",
    "#plt.title('ADC Output (I/Q Data)', fontsize=16)\n",
    "#plt.legend(loc='upper right', fontsize=14, facecolor='white', edgecolor='black')\n",
    "#plt.show()\n",
    "plt.savefig('DACADC_Loopback.png')"
   ]
  },
  {
   "cell_type": "code",
   "execution_count": null,
   "id": "a7c4c2db-bde7-4d7e-9a1e-a45d81e52e12",
   "metadata": {},
   "outputs": [],
   "source": [
    "import ipywidgets as ipw\n",
    "pow_slider = ipw.SelectionSlider(\n",
    "    options=[0.1, 0.2, 0.3, 0.4, 0.5, 0.6, 0.7, 0.8, 0.9, 1],\n",
    "    value=1,\n",
    "    description='',\n",
    ")\n",
    "\n",
    "accordion = ipw.Accordion(children=[pow_slider])\n",
    "accordion.set_title(0, 'Transmitter power')\n",
    "display(accordion)\n",
    "\n",
    "def unwrap_slider_val(callback):\n",
    "    return lambda slider_val : callback(slider_val['new'])\n",
    "\n",
    "#pow_slider.observe(unwrap_slider_val(ol.qpsk_tx.set_gain), names='value')"
   ]
  }
 ],
 "metadata": {
  "kernelspec": {
   "display_name": "Python 3 (ipykernel)",
   "language": "python",
   "name": "python3"
  },
  "language_info": {
   "codemirror_mode": {
    "name": "ipython",
    "version": 3
   },
   "file_extension": ".py",
   "mimetype": "text/x-python",
   "name": "python",
   "nbconvert_exporter": "python",
   "pygments_lexer": "ipython3",
   "version": "3.12.4"
  }
 },
 "nbformat": 4,
 "nbformat_minor": 5
}
